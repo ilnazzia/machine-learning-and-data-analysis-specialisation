{
 "cells": [
  {
   "cell_type": "markdown",
   "metadata": {
    "id": "xKM6g60vJic6"
   },
   "source": [
    "**Корректность проверена на Python 3.6:**\n",
    "+ numpy 1.15.4\n",
    "+ matplotlib 3.0.2\n",
    "+ pandas 0.23.4\n"
   ]
  },
  {
   "cell_type": "markdown",
   "metadata": {
    "id": "COg-_VtRJic-"
   },
   "source": [
    "# Практическое задание к уроку 1 (2 неделя).\n",
    "## Линейная регрессия: переобучение и регуляризация"
   ]
  },
  {
   "cell_type": "markdown",
   "metadata": {
    "id": "zRMLSTBDJic-"
   },
   "source": [
    "В этом задании мы на примерах увидим, как переобучаются линейные модели, разберем, почему так происходит, и выясним, как диагностировать и контролировать переобучение.\n",
    "\n",
    "Во всех ячейках, где написан комментарий с инструкциями, нужно написать код, выполняющий эти инструкции. Остальные ячейки с кодом (без комментариев) нужно просто выполнить. Кроме того, в задании требуется отвечать на вопросы; ответы нужно вписывать после выделенного слова \"__Ответ:__\".\n",
    "\n",
    "Напоминаем, что посмотреть справку любого метода или функции (узнать, какие у нее аргументы и что она делает) можно с помощью комбинации Shift+Tab. Нажатие Tab после имени объекта и точки позволяет посмотреть, какие методы и переменные есть у этого объекта."
   ]
  },
  {
   "cell_type": "code",
   "execution_count": 5,
   "metadata": {
    "id": "iN77rOIsJic-"
   },
   "outputs": [],
   "source": [
    "import pandas as pd\n",
    "import numpy as np\n",
    "from matplotlib import pyplot as plt\n",
    "%matplotlib inline"
   ]
  },
  {
   "cell_type": "markdown",
   "metadata": {
    "id": "N_4MXjNqJic_"
   },
   "source": [
    "Мы будем работать с датасетом __\"bikes_rent.csv\"__, в котором по дням записаны календарная информация и погодные условия, характеризующие автоматизированные пункты проката велосипедов, а также число прокатов в этот день. Последнее мы будем предсказывать; таким образом, мы будем решать задачу регрессии."
   ]
  },
  {
   "cell_type": "markdown",
   "metadata": {
    "id": "J1TluRQiJic_"
   },
   "source": [
    "### Знакомство с данными"
   ]
  },
  {
   "cell_type": "markdown",
   "metadata": {
    "id": "j2BHyVB9JidA"
   },
   "source": [
    "Загрузите датасет с помощью функции __pandas.read_csv__ в переменную __df__. Выведите первые 5 строчек, чтобы убедиться в корректном считывании данных:"
   ]
  },
  {
   "cell_type": "code",
   "execution_count": 6,
   "metadata": {
    "id": "WEnjoY9wJidA"
   },
   "outputs": [],
   "source": [
    "# (0 баллов)\n",
    "df = pd.read_csv('bikes_rent.csv')\n"
   ]
  },
  {
   "cell_type": "code",
   "execution_count": 7,
   "metadata": {
    "colab": {
     "base_uri": "https://localhost:8080/",
     "height": 204
    },
    "id": "a-rO42W6WuqE",
    "outputId": "1bf0369b-a2c3-4f72-c397-df3e342a6aa3"
   },
   "outputs": [
    {
     "data": {
      "text/html": [
       "<div>\n",
       "<style scoped>\n",
       "    .dataframe tbody tr th:only-of-type {\n",
       "        vertical-align: middle;\n",
       "    }\n",
       "\n",
       "    .dataframe tbody tr th {\n",
       "        vertical-align: top;\n",
       "    }\n",
       "\n",
       "    .dataframe thead th {\n",
       "        text-align: right;\n",
       "    }\n",
       "</style>\n",
       "<table border=\"1\" class=\"dataframe\">\n",
       "  <thead>\n",
       "    <tr style=\"text-align: right;\">\n",
       "      <th></th>\n",
       "      <th>season</th>\n",
       "      <th>yr</th>\n",
       "      <th>mnth</th>\n",
       "      <th>holiday</th>\n",
       "      <th>weekday</th>\n",
       "      <th>workingday</th>\n",
       "      <th>weathersit</th>\n",
       "      <th>temp</th>\n",
       "      <th>atemp</th>\n",
       "      <th>hum</th>\n",
       "      <th>windspeed(mph)</th>\n",
       "      <th>windspeed(ms)</th>\n",
       "      <th>cnt</th>\n",
       "    </tr>\n",
       "  </thead>\n",
       "  <tbody>\n",
       "    <tr>\n",
       "      <th>0</th>\n",
       "      <td>1</td>\n",
       "      <td>0</td>\n",
       "      <td>1</td>\n",
       "      <td>0</td>\n",
       "      <td>6</td>\n",
       "      <td>0</td>\n",
       "      <td>2</td>\n",
       "      <td>14.110847</td>\n",
       "      <td>18.18125</td>\n",
       "      <td>80.5833</td>\n",
       "      <td>10.749882</td>\n",
       "      <td>4.805490</td>\n",
       "      <td>985</td>\n",
       "    </tr>\n",
       "    <tr>\n",
       "      <th>1</th>\n",
       "      <td>1</td>\n",
       "      <td>0</td>\n",
       "      <td>1</td>\n",
       "      <td>0</td>\n",
       "      <td>0</td>\n",
       "      <td>0</td>\n",
       "      <td>2</td>\n",
       "      <td>14.902598</td>\n",
       "      <td>17.68695</td>\n",
       "      <td>69.6087</td>\n",
       "      <td>16.652113</td>\n",
       "      <td>7.443949</td>\n",
       "      <td>801</td>\n",
       "    </tr>\n",
       "    <tr>\n",
       "      <th>2</th>\n",
       "      <td>1</td>\n",
       "      <td>0</td>\n",
       "      <td>1</td>\n",
       "      <td>0</td>\n",
       "      <td>1</td>\n",
       "      <td>1</td>\n",
       "      <td>1</td>\n",
       "      <td>8.050924</td>\n",
       "      <td>9.47025</td>\n",
       "      <td>43.7273</td>\n",
       "      <td>16.636703</td>\n",
       "      <td>7.437060</td>\n",
       "      <td>1349</td>\n",
       "    </tr>\n",
       "    <tr>\n",
       "      <th>3</th>\n",
       "      <td>1</td>\n",
       "      <td>0</td>\n",
       "      <td>1</td>\n",
       "      <td>0</td>\n",
       "      <td>2</td>\n",
       "      <td>1</td>\n",
       "      <td>1</td>\n",
       "      <td>8.200000</td>\n",
       "      <td>10.60610</td>\n",
       "      <td>59.0435</td>\n",
       "      <td>10.739832</td>\n",
       "      <td>4.800998</td>\n",
       "      <td>1562</td>\n",
       "    </tr>\n",
       "    <tr>\n",
       "      <th>4</th>\n",
       "      <td>1</td>\n",
       "      <td>0</td>\n",
       "      <td>1</td>\n",
       "      <td>0</td>\n",
       "      <td>3</td>\n",
       "      <td>1</td>\n",
       "      <td>1</td>\n",
       "      <td>9.305237</td>\n",
       "      <td>11.46350</td>\n",
       "      <td>43.6957</td>\n",
       "      <td>12.522300</td>\n",
       "      <td>5.597810</td>\n",
       "      <td>1600</td>\n",
       "    </tr>\n",
       "  </tbody>\n",
       "</table>\n",
       "</div>"
      ],
      "text/plain": [
       "   season  yr  mnth  holiday  weekday  workingday  weathersit       temp  \\\n",
       "0       1   0     1        0        6           0           2  14.110847   \n",
       "1       1   0     1        0        0           0           2  14.902598   \n",
       "2       1   0     1        0        1           1           1   8.050924   \n",
       "3       1   0     1        0        2           1           1   8.200000   \n",
       "4       1   0     1        0        3           1           1   9.305237   \n",
       "\n",
       "      atemp      hum  windspeed(mph)  windspeed(ms)   cnt  \n",
       "0  18.18125  80.5833       10.749882       4.805490   985  \n",
       "1  17.68695  69.6087       16.652113       7.443949   801  \n",
       "2   9.47025  43.7273       16.636703       7.437060  1349  \n",
       "3  10.60610  59.0435       10.739832       4.800998  1562  \n",
       "4  11.46350  43.6957       12.522300       5.597810  1600  "
      ]
     },
     "execution_count": 7,
     "metadata": {},
     "output_type": "execute_result"
    }
   ],
   "source": [
    "df.head()"
   ]
  },
  {
   "cell_type": "markdown",
   "metadata": {
    "id": "bUvxSreDJidA"
   },
   "source": [
    "Для каждого дня проката известны следующие признаки (как они были указаны в источнике данных):\n",
    "* _season_: 1 - весна, 2 - лето, 3 - осень, 4 - зима\n",
    "* _yr_: 0 - 2011, 1 - 2012\n",
    "* _mnth_: от 1 до 12\n",
    "* _holiday_: 0 - нет праздника, 1 - есть праздник\n",
    "* _weekday_: от 0 до 6\n",
    "* _workingday_: 0 - нерабочий день, 1 - рабочий день\n",
    "* _weathersit_: оценка благоприятности погоды от 1 (чистый, ясный день) до 4 (ливень, туман)\n",
    "* _temp_: температура в Цельсиях\n",
    "* _atemp_: температура по ощущениям в Цельсиях\n",
    "* _hum_: влажность\n",
    "* _windspeed(mph)_: скорость ветра в милях в час\n",
    "* _windspeed(ms)_: скорость ветра в метрах в секунду\n",
    "* _cnt_: количество арендованных велосипедов (это целевой признак, его мы будем предсказывать)\n",
    "\n",
    "Итак, у нас есть вещественные, бинарные и номинальные (порядковые) признаки, и со всеми из них можно работать как с вещественными. С номинальныеми признаками тоже можно работать как с вещественными, потому что на них задан порядок. Давайте посмотрим на графиках, как целевой признак зависит от остальных"
   ]
  },
  {
   "cell_type": "code",
   "execution_count": 8,
   "metadata": {
    "colab": {
     "base_uri": "https://localhost:8080/",
     "height": 606
    },
    "id": "aNIE2MrpJidA",
    "outputId": "31c7a1c3-de6b-4a37-cb73-1aa74158193d"
   },
   "outputs": [
    {
     "data": {
      "image/png": "[encoded data removed]",
      "text/plain": [
       "<Figure size 1080x720 with 12 Axes>"
      ]
     },
     "metadata": {
      "needs_background": "light"
     },
     "output_type": "display_data"
    }
   ],
   "source": [
    "fig, axes = plt.subplots(nrows=3, ncols=4, figsize=(15, 10))\n",
    "for idx, feature in enumerate(df.columns[:-1]):\n",
    "    df.plot(feature, \"cnt\", subplots=True, kind=\"scatter\", ax=axes[idx // 4, idx % 4])"
   ]
  },
  {
   "cell_type": "markdown",
   "metadata": {
    "id": "v-9SPcSYJidB"
   },
   "source": [
    "__Блок 1. Ответьте на вопросы (каждый 0.5 балла):__\n",
    "1. Каков характер зависимости числа прокатов от месяца? \n",
    "   * ответ: нелинейная зависимость с максимум в летних месяцах\n",
    "1. Укажите один или два признака, от которых число прокатов скорее всего зависит линейно\n",
    "   * ответ: температура, температура по ощущениям"
   ]
  },
  {
   "cell_type": "markdown",
   "metadata": {
    "id": "PdOSpxkVJidB"
   },
   "source": [
    "Давайте более строго оценим уровень линейной зависимости между признаками и целевой переменной. Хорошей мерой линейной зависимости между двумя векторами является корреляция Пирсона. В pandas ее можно посчитать с помощью двух методов датафрейма: corr и corrwith. Метод df.corr вычисляет матрицу корреляций всех признаков из датафрейма. Методу df.corrwith нужно подать еще один датафрейм в качестве аргумента, и тогда он посчитает попарные корреляции между признаками из df и этого датафрейма."
   ]
  },
  {
   "cell_type": "code",
   "execution_count": 9,
   "metadata": {
    "colab": {
     "base_uri": "https://localhost:8080/",
     "height": 421
    },
    "id": "qlaAVznAJidB",
    "outputId": "6f938c1f-d34c-462d-a704-86556e224af0"
   },
   "outputs": [
    {
     "data": {
      "text/html": [
       "<div>\n",
       "<style scoped>\n",
       "    .dataframe tbody tr th:only-of-type {\n",
       "        vertical-align: middle;\n",
       "    }\n",
       "\n",
       "    .dataframe tbody tr th {\n",
       "        vertical-align: top;\n",
       "    }\n",
       "\n",
       "    .dataframe thead th {\n",
       "        text-align: right;\n",
       "    }\n",
       "</style>\n",
       "<table border=\"1\" class=\"dataframe\">\n",
       "  <thead>\n",
       "    <tr style=\"text-align: right;\">\n",
       "      <th></th>\n",
       "      <th>season</th>\n",
       "      <th>yr</th>\n",
       "      <th>mnth</th>\n",
       "      <th>holiday</th>\n",
       "      <th>weekday</th>\n",
       "      <th>workingday</th>\n",
       "      <th>weathersit</th>\n",
       "      <th>temp</th>\n",
       "      <th>atemp</th>\n",
       "      <th>hum</th>\n",
       "      <th>windspeed(mph)</th>\n",
       "      <th>windspeed(ms)</th>\n",
       "    </tr>\n",
       "  </thead>\n",
       "  <tbody>\n",
       "    <tr>\n",
       "      <th>season</th>\n",
       "      <td>1.000000</td>\n",
       "      <td>-0.001844</td>\n",
       "      <td>0.831440</td>\n",
       "      <td>-0.010537</td>\n",
       "      <td>-0.003080</td>\n",
       "      <td>0.012485</td>\n",
       "      <td>0.019211</td>\n",
       "      <td>0.334315</td>\n",
       "      <td>0.342876</td>\n",
       "      <td>0.205445</td>\n",
       "      <td>-0.229046</td>\n",
       "      <td>-0.229046</td>\n",
       "    </tr>\n",
       "    <tr>\n",
       "      <th>yr</th>\n",
       "      <td>-0.001844</td>\n",
       "      <td>1.000000</td>\n",
       "      <td>-0.001792</td>\n",
       "      <td>0.007954</td>\n",
       "      <td>-0.005461</td>\n",
       "      <td>-0.002013</td>\n",
       "      <td>-0.048727</td>\n",
       "      <td>0.047604</td>\n",
       "      <td>0.046106</td>\n",
       "      <td>-0.110651</td>\n",
       "      <td>-0.011817</td>\n",
       "      <td>-0.011817</td>\n",
       "    </tr>\n",
       "    <tr>\n",
       "      <th>mnth</th>\n",
       "      <td>0.831440</td>\n",
       "      <td>-0.001792</td>\n",
       "      <td>1.000000</td>\n",
       "      <td>0.019191</td>\n",
       "      <td>0.009509</td>\n",
       "      <td>-0.005901</td>\n",
       "      <td>0.043528</td>\n",
       "      <td>0.220205</td>\n",
       "      <td>0.227459</td>\n",
       "      <td>0.222204</td>\n",
       "      <td>-0.207502</td>\n",
       "      <td>-0.207502</td>\n",
       "    </tr>\n",
       "    <tr>\n",
       "      <th>holiday</th>\n",
       "      <td>-0.010537</td>\n",
       "      <td>0.007954</td>\n",
       "      <td>0.019191</td>\n",
       "      <td>1.000000</td>\n",
       "      <td>-0.101960</td>\n",
       "      <td>-0.253023</td>\n",
       "      <td>-0.034627</td>\n",
       "      <td>-0.028556</td>\n",
       "      <td>-0.032507</td>\n",
       "      <td>-0.015937</td>\n",
       "      <td>0.006292</td>\n",
       "      <td>0.006292</td>\n",
       "    </tr>\n",
       "    <tr>\n",
       "      <th>weekday</th>\n",
       "      <td>-0.003080</td>\n",
       "      <td>-0.005461</td>\n",
       "      <td>0.009509</td>\n",
       "      <td>-0.101960</td>\n",
       "      <td>1.000000</td>\n",
       "      <td>0.035790</td>\n",
       "      <td>0.031087</td>\n",
       "      <td>-0.000170</td>\n",
       "      <td>-0.007537</td>\n",
       "      <td>-0.052232</td>\n",
       "      <td>0.014282</td>\n",
       "      <td>0.014282</td>\n",
       "    </tr>\n",
       "    <tr>\n",
       "      <th>workingday</th>\n",
       "      <td>0.012485</td>\n",
       "      <td>-0.002013</td>\n",
       "      <td>-0.005901</td>\n",
       "      <td>-0.253023</td>\n",
       "      <td>0.035790</td>\n",
       "      <td>1.000000</td>\n",
       "      <td>0.061200</td>\n",
       "      <td>0.052660</td>\n",
       "      <td>0.052182</td>\n",
       "      <td>0.024327</td>\n",
       "      <td>-0.018796</td>\n",
       "      <td>-0.018796</td>\n",
       "    </tr>\n",
       "    <tr>\n",
       "      <th>weathersit</th>\n",
       "      <td>0.019211</td>\n",
       "      <td>-0.048727</td>\n",
       "      <td>0.043528</td>\n",
       "      <td>-0.034627</td>\n",
       "      <td>0.031087</td>\n",
       "      <td>0.061200</td>\n",
       "      <td>1.000000</td>\n",
       "      <td>-0.120602</td>\n",
       "      <td>-0.121583</td>\n",
       "      <td>0.591045</td>\n",
       "      <td>0.039511</td>\n",
       "      <td>0.039511</td>\n",
       "    </tr>\n",
       "    <tr>\n",
       "      <th>temp</th>\n",
       "      <td>0.334315</td>\n",
       "      <td>0.047604</td>\n",
       "      <td>0.220205</td>\n",
       "      <td>-0.028556</td>\n",
       "      <td>-0.000170</td>\n",
       "      <td>0.052660</td>\n",
       "      <td>-0.120602</td>\n",
       "      <td>1.000000</td>\n",
       "      <td>0.991702</td>\n",
       "      <td>0.126963</td>\n",
       "      <td>-0.157944</td>\n",
       "      <td>-0.157944</td>\n",
       "    </tr>\n",
       "    <tr>\n",
       "      <th>atemp</th>\n",
       "      <td>0.342876</td>\n",
       "      <td>0.046106</td>\n",
       "      <td>0.227459</td>\n",
       "      <td>-0.032507</td>\n",
       "      <td>-0.007537</td>\n",
       "      <td>0.052182</td>\n",
       "      <td>-0.121583</td>\n",
       "      <td>0.991702</td>\n",
       "      <td>1.000000</td>\n",
       "      <td>0.139988</td>\n",
       "      <td>-0.183643</td>\n",
       "      <td>-0.183643</td>\n",
       "    </tr>\n",
       "    <tr>\n",
       "      <th>hum</th>\n",
       "      <td>0.205445</td>\n",
       "      <td>-0.110651</td>\n",
       "      <td>0.222204</td>\n",
       "      <td>-0.015937</td>\n",
       "      <td>-0.052232</td>\n",
       "      <td>0.024327</td>\n",
       "      <td>0.591045</td>\n",
       "      <td>0.126963</td>\n",
       "      <td>0.139988</td>\n",
       "      <td>1.000000</td>\n",
       "      <td>-0.248489</td>\n",
       "      <td>-0.248489</td>\n",
       "    </tr>\n",
       "    <tr>\n",
       "      <th>windspeed(mph)</th>\n",
       "      <td>-0.229046</td>\n",
       "      <td>-0.011817</td>\n",
       "      <td>-0.207502</td>\n",
       "      <td>0.006292</td>\n",
       "      <td>0.014282</td>\n",
       "      <td>-0.018796</td>\n",
       "      <td>0.039511</td>\n",
       "      <td>-0.157944</td>\n",
       "      <td>-0.183643</td>\n",
       "      <td>-0.248489</td>\n",
       "      <td>1.000000</td>\n",
       "      <td>1.000000</td>\n",
       "    </tr>\n",
       "    <tr>\n",
       "      <th>windspeed(ms)</th>\n",
       "      <td>-0.229046</td>\n",
       "      <td>-0.011817</td>\n",
       "      <td>-0.207502</td>\n",
       "      <td>0.006292</td>\n",
       "      <td>0.014282</td>\n",
       "      <td>-0.018796</td>\n",
       "      <td>0.039511</td>\n",
       "      <td>-0.157944</td>\n",
       "      <td>-0.183643</td>\n",
       "      <td>-0.248489</td>\n",
       "      <td>1.000000</td>\n",
       "      <td>1.000000</td>\n",
       "    </tr>\n",
       "  </tbody>\n",
       "</table>\n",
       "</div>"
      ],
      "text/plain": [
       "                  season        yr      mnth   holiday   weekday  workingday  \\\n",
       "season          1.000000 -0.001844  0.831440 -0.010537 -0.003080    0.012485   \n",
       "yr             -0.001844  1.000000 -0.001792  0.007954 -0.005461   -0.002013   \n",
       "mnth            0.831440 -0.001792  1.000000  0.019191  0.009509   -0.005901   \n",
       "holiday        -0.010537  0.007954  0.019191  1.000000 -0.101960   -0.253023   \n",
       "weekday        -0.003080 -0.005461  0.009509 -0.101960  1.000000    0.035790   \n",
       "workingday      0.012485 -0.002013 -0.005901 -0.253023  0.035790    1.000000   \n",
       "weathersit      0.019211 -0.048727  0.043528 -0.034627  0.031087    0.061200   \n",
       "temp            0.334315  0.047604  0.220205 -0.028556 -0.000170    0.052660   \n",
       "atemp           0.342876  0.046106  0.227459 -0.032507 -0.007537    0.052182   \n",
       "hum             0.205445 -0.110651  0.222204 -0.015937 -0.052232    0.024327   \n",
       "windspeed(mph) -0.229046 -0.011817 -0.207502  0.006292  0.014282   -0.018796   \n",
       "windspeed(ms)  -0.229046 -0.011817 -0.207502  0.006292  0.014282   -0.018796   \n",
       "\n",
       "                weathersit      temp     atemp       hum  windspeed(mph)  \\\n",
       "season            0.019211  0.334315  0.342876  0.205445       -0.229046   \n",
       "yr               -0.048727  0.047604  0.046106 -0.110651       -0.011817   \n",
       "mnth              0.043528  0.220205  0.227459  0.222204       -0.207502   \n",
       "holiday          -0.034627 -0.028556 -0.032507 -0.015937        0.006292   \n",
       "weekday           0.031087 -0.000170 -0.007537 -0.052232        0.014282   \n",
       "workingday        0.061200  0.052660  0.052182  0.024327       -0.018796   \n",
       "weathersit        1.000000 -0.120602 -0.121583  0.591045        0.039511   \n",
       "temp             -0.120602  1.000000  0.991702  0.126963       -0.157944   \n",
       "atemp            -0.121583  0.991702  1.000000  0.139988       -0.183643   \n",
       "hum               0.591045  0.126963  0.139988  1.000000       -0.248489   \n",
       "windspeed(mph)    0.039511 -0.157944 -0.183643 -0.248489        1.000000   \n",
       "windspeed(ms)     0.039511 -0.157944 -0.183643 -0.248489        1.000000   \n",
       "\n",
       "                windspeed(ms)  \n",
       "season              -0.229046  \n",
       "yr                  -0.011817  \n",
       "mnth                -0.207502  \n",
       "holiday              0.006292  \n",
       "weekday              0.014282  \n",
       "workingday          -0.018796  \n",
       "weathersit           0.039511  \n",
       "temp                -0.157944  \n",
       "atemp               -0.183643  \n",
       "hum                 -0.248489  \n",
       "windspeed(mph)       1.000000  \n",
       "windspeed(ms)        1.000000  "
      ]
     },
     "execution_count": 9,
     "metadata": {},
     "output_type": "execute_result"
    }
   ],
   "source": [
    "# Код 1.1 (0.5 балла)\n",
    "# Посчитайте корреляции всех признаков, кроме последнего, с последним с помощью метода corrwith:\n",
    "\n",
    "feature_cols = ['season', 'yr',\t'mnth',\t'holiday',\t'weekday',\t'workingday',\t'weathersit',\t'temp',\t'atemp',\t'hum',\t'windspeed(mph)',\t'windspeed(ms)']\n",
    "target_col = ['cnt']\n",
    "\n",
    "df[feature_cols].corr()"
   ]
  },
  {
   "cell_type": "code",
   "execution_count": 10,
   "metadata": {
    "colab": {
     "base_uri": "https://localhost:8080/"
    },
    "id": "uU4Ogezi68Nf",
    "outputId": "b1364781-e00f-440d-9dc9-dc1cf15bc630"
   },
   "outputs": [
    {
     "data": {
      "text/plain": [
       "season            0.406100\n",
       "yr                0.566710\n",
       "mnth              0.279977\n",
       "holiday          -0.068348\n",
       "weekday           0.067443\n",
       "workingday        0.061156\n",
       "weathersit       -0.297391\n",
       "temp              0.627494\n",
       "atemp             0.631066\n",
       "hum              -0.100659\n",
       "windspeed(mph)   -0.234545\n",
       "windspeed(ms)    -0.234545\n",
       "dtype: float64"
      ]
     },
     "execution_count": 10,
     "metadata": {},
     "output_type": "execute_result"
    }
   ],
   "source": [
    "df[feature_cols].corrwith(df['cnt'])"
   ]
  },
  {
   "cell_type": "markdown",
   "metadata": {
    "id": "nQEkE29GJidB"
   },
   "source": [
    "В выборке есть признаки, коррелирующие с целевым, а значит, задачу можно решать линейными методами."
   ]
  },
  {
   "cell_type": "markdown",
   "metadata": {
    "id": "rz_MWEL_JidB"
   },
   "source": [
    "По графикам видно, что некоторые признаки похожи друг на друга. Поэтому давайте также посчитаем корреляции между вещественными признаками."
   ]
  },
  {
   "cell_type": "code",
   "execution_count": 11,
   "metadata": {
    "colab": {
     "base_uri": "https://localhost:8080/",
     "height": 235
    },
    "id": "aCciGZrQJidC",
    "outputId": "1be5d9a2-111b-4843-a21c-2b57b374a6fd"
   },
   "outputs": [
    {
     "data": {
      "text/html": [
       "<div>\n",
       "<style scoped>\n",
       "    .dataframe tbody tr th:only-of-type {\n",
       "        vertical-align: middle;\n",
       "    }\n",
       "\n",
       "    .dataframe tbody tr th {\n",
       "        vertical-align: top;\n",
       "    }\n",
       "\n",
       "    .dataframe thead th {\n",
       "        text-align: right;\n",
       "    }\n",
       "</style>\n",
       "<table border=\"1\" class=\"dataframe\">\n",
       "  <thead>\n",
       "    <tr style=\"text-align: right;\">\n",
       "      <th></th>\n",
       "      <th>temp</th>\n",
       "      <th>atemp</th>\n",
       "      <th>hum</th>\n",
       "      <th>windspeed(mph)</th>\n",
       "      <th>windspeed(ms)</th>\n",
       "      <th>cnt</th>\n",
       "    </tr>\n",
       "  </thead>\n",
       "  <tbody>\n",
       "    <tr>\n",
       "      <th>temp</th>\n",
       "      <td>1.000000</td>\n",
       "      <td>0.991702</td>\n",
       "      <td>0.126963</td>\n",
       "      <td>-0.157944</td>\n",
       "      <td>-0.157944</td>\n",
       "      <td>0.627494</td>\n",
       "    </tr>\n",
       "    <tr>\n",
       "      <th>atemp</th>\n",
       "      <td>0.991702</td>\n",
       "      <td>1.000000</td>\n",
       "      <td>0.139988</td>\n",
       "      <td>-0.183643</td>\n",
       "      <td>-0.183643</td>\n",
       "      <td>0.631066</td>\n",
       "    </tr>\n",
       "    <tr>\n",
       "      <th>hum</th>\n",
       "      <td>0.126963</td>\n",
       "      <td>0.139988</td>\n",
       "      <td>1.000000</td>\n",
       "      <td>-0.248489</td>\n",
       "      <td>-0.248489</td>\n",
       "      <td>-0.100659</td>\n",
       "    </tr>\n",
       "    <tr>\n",
       "      <th>windspeed(mph)</th>\n",
       "      <td>-0.157944</td>\n",
       "      <td>-0.183643</td>\n",
       "      <td>-0.248489</td>\n",
       "      <td>1.000000</td>\n",
       "      <td>1.000000</td>\n",
       "      <td>-0.234545</td>\n",
       "    </tr>\n",
       "    <tr>\n",
       "      <th>windspeed(ms)</th>\n",
       "      <td>-0.157944</td>\n",
       "      <td>-0.183643</td>\n",
       "      <td>-0.248489</td>\n",
       "      <td>1.000000</td>\n",
       "      <td>1.000000</td>\n",
       "      <td>-0.234545</td>\n",
       "    </tr>\n",
       "    <tr>\n",
       "      <th>cnt</th>\n",
       "      <td>0.627494</td>\n",
       "      <td>0.631066</td>\n",
       "      <td>-0.100659</td>\n",
       "      <td>-0.234545</td>\n",
       "      <td>-0.234545</td>\n",
       "      <td>1.000000</td>\n",
       "    </tr>\n",
       "  </tbody>\n",
       "</table>\n",
       "</div>"
      ],
      "text/plain": [
       "                    temp     atemp       hum  windspeed(mph)  windspeed(ms)  \\\n",
       "temp            1.000000  0.991702  0.126963       -0.157944      -0.157944   \n",
       "atemp           0.991702  1.000000  0.139988       -0.183643      -0.183643   \n",
       "hum             0.126963  0.139988  1.000000       -0.248489      -0.248489   \n",
       "windspeed(mph) -0.157944 -0.183643 -0.248489        1.000000       1.000000   \n",
       "windspeed(ms)  -0.157944 -0.183643 -0.248489        1.000000       1.000000   \n",
       "cnt             0.627494  0.631066 -0.100659       -0.234545      -0.234545   \n",
       "\n",
       "                     cnt  \n",
       "temp            0.627494  \n",
       "atemp           0.631066  \n",
       "hum            -0.100659  \n",
       "windspeed(mph) -0.234545  \n",
       "windspeed(ms)  -0.234545  \n",
       "cnt             1.000000  "
      ]
     },
     "execution_count": 11,
     "metadata": {},
     "output_type": "execute_result"
    }
   ],
   "source": [
    "# Код 1.2 (0.5 балла)\n",
    "# Посчитайте попарные корреляции между признаками temp, atemp, hum, windspeed(mph), windspeed(ms) и cnt\n",
    "# с помощью метода corr:\n",
    "df[['temp', 'atemp', 'hum', 'windspeed(mph)', 'windspeed(ms)', 'cnt']].corr()"
   ]
  },
  {
   "cell_type": "markdown",
   "metadata": {
    "id": "Py0KpdNaJidC"
   },
   "source": [
    "На диагоналях, как и полагается, стоят единицы. Однако в матрице имеются еще две пары сильно коррелирующих столбцов: temp и atemp (коррелируют по своей природе) и два windspeed (потому что это просто перевод одних единиц в другие). Далее мы увидим, что этот факт негативно сказывается на обучении линейной модели."
   ]
  },
  {
   "cell_type": "markdown",
   "metadata": {
    "id": "JsxCaKX9JidC"
   },
   "source": [
    "Напоследок посмотрим средние признаков (метод mean), чтобы оценить масштаб признаков и доли 1 у бинарных признаков."
   ]
  },
  {
   "cell_type": "code",
   "execution_count": 12,
   "metadata": {
    "colab": {
     "base_uri": "https://localhost:8080/"
    },
    "id": "Q9WYrPKAJidC",
    "outputId": "82c6627f-7052-4199-b949-0de511249cc7"
   },
   "outputs": [
    {
     "data": {
      "text/plain": [
       "season               2.496580\n",
       "yr                   0.500684\n",
       "mnth                 6.519836\n",
       "holiday              0.028728\n",
       "weekday              2.997264\n",
       "workingday           0.683995\n",
       "weathersit           1.395349\n",
       "temp                20.310776\n",
       "atemp               23.717699\n",
       "hum                 62.789406\n",
       "windspeed(mph)      12.762576\n",
       "windspeed(ms)        5.705220\n",
       "cnt               4504.348837\n",
       "dtype: float64"
      ]
     },
     "execution_count": 12,
     "metadata": {},
     "output_type": "execute_result"
    }
   ],
   "source": [
    "# Код 1.3 (0.5 балла)\n",
    "# Выведите средние признаков\n",
    "df.mean(axis=0)"
   ]
  },
  {
   "cell_type": "markdown",
   "metadata": {
    "id": "0sCLUW-DJidD"
   },
   "source": [
    "Признаки имеют разный масштаб, значит для дальнейшей работы нам лучше нормировать матрицу объекты-признаки."
   ]
  },
  {
   "cell_type": "markdown",
   "metadata": {
    "id": "A1JbeT6VJidD"
   },
   "source": [
    "### Проблема первая: коллинеарные признаки"
   ]
  },
  {
   "cell_type": "markdown",
   "metadata": {
    "id": "ba8VGyBkJidD"
   },
   "source": [
    "Итак, в наших данных один признак дублирует другой, и есть еще два очень похожих. Конечно, мы могли бы сразу удалить дубликаты, но давайте посмотрим, как бы происходило обучение модели, если бы мы не заметили эту проблему. \n",
    "\n",
    "Для начала проведем масштабирование, или стандартизацию признаков: из каждого признака вычтем его среднее и поделим на стандартное отклонение. Это можно сделать с помощью метода scale.\n",
    "\n",
    "Кроме того, нужно перемешать выборку, это потребуется для кросс-валидации."
   ]
  },
  {
   "cell_type": "code",
   "execution_count": 14,
   "metadata": {
    "id": "ZM_6LzYDJidD"
   },
   "outputs": [],
   "source": [
    "from sklearn.preprocessing import scale\n",
    "from sklearn.utils import shuffle"
   ]
  },
  {
   "cell_type": "code",
   "execution_count": 15,
   "metadata": {
    "id": "GFC32LZqJidD"
   },
   "outputs": [],
   "source": [
    "df_shuffled = shuffle(df, random_state=123)\n",
    "X = scale(df_shuffled[df_shuffled.columns[:-1]])\n",
    "y = df_shuffled[\"cnt\"]"
   ]
  },
  {
   "cell_type": "code",
   "execution_count": 17,
   "metadata": {},
   "outputs": [
    {
     "data": {
      "text/plain": [
       "Index(['season', 'yr', 'mnth', 'holiday', 'weekday', 'workingday',\n",
       "       'weathersit', 'temp', 'atemp', 'hum', 'windspeed(mph)', 'windspeed(ms)',\n",
       "       'cnt'],\n",
       "      dtype='object')"
      ]
     },
     "execution_count": 17,
     "metadata": {},
     "output_type": "execute_result"
    }
   ],
   "source": [
    "df_shuffled.columns"
   ]
  },
  {
   "cell_type": "markdown",
   "metadata": {
    "id": "KRXmbO6zJidD"
   },
   "source": [
    "Давайте обучим линейную регрессию на наших данных и посмотрим на веса признаков."
   ]
  },
  {
   "cell_type": "code",
   "execution_count": 16,
   "metadata": {
    "id": "bFQhLKXCJidD"
   },
   "outputs": [],
   "source": [
    "from sklearn.linear_model import LinearRegression"
   ]
  },
  {
   "cell_type": "code",
   "execution_count": 17,
   "metadata": {
    "colab": {
     "base_uri": "https://localhost:8080/"
    },
    "id": "TJT_XuGIJidD",
    "outputId": "27f8e471-7804-436e-d30a-00fdb37e46cf"
   },
   "outputs": [
    {
     "data": {
      "text/plain": [
       "[('season', 570.8675887934525),\n",
       " ('yr', 1021.9652921309369),\n",
       " ('mnth', -141.30438378580345),\n",
       " ('holiday', -86.75613647415624),\n",
       " ('weekday', 137.22482362623418),\n",
       " ('workingday', 56.39056950314733),\n",
       " ('weathersit', -330.2332887484121),\n",
       " ('temp', 367.47338726750786),\n",
       " ('atemp', 585.5559979631937),\n",
       " ('hum', -145.6063153911189),\n",
       " ('windspeed(mph)', 12458200269331.953),\n",
       " ('windspeed(ms)', -12458200269530.414)]"
      ]
     },
     "execution_count": 17,
     "metadata": {},
     "output_type": "execute_result"
    }
   ],
   "source": [
    "# Код 2.1 (1 балл)\n",
    "# Создайте объект линейного регрессора, обучите его на всех данных и выведите веса модели \n",
    "# (веса хранятся в переменной coef_ класса регрессора).\n",
    "# Можно выводить пары (название признака, вес), воспользовавшись функцией zip, встроенной в язык python\n",
    "# Названия признаков хранятся в переменной df.columns\n",
    "lin_model = LinearRegression()\n",
    "lin_model.fit(X, y)\n",
    "list(zip(feature_cols, lin_model.coef_))"
   ]
  },
  {
   "cell_type": "markdown",
   "metadata": {
    "id": "YE2XajL-JidE"
   },
   "source": [
    "Мы видим, что веса при линейно-зависимых признаках по модулю значительно больше, чем при других признаках."
   ]
  },
  {
   "cell_type": "markdown",
   "metadata": {
    "id": "gjLcHsNFJidE"
   },
   "source": [
    "Чтобы понять, почему так произошло, вспомним аналитическую формулу, по которой вычисляются веса линейной модели в методе наименьших квадратов:\n",
    "\n",
    "$w = (X^TX)^{-1} X^T y$.\n",
    "\n",
    "Если в X есть коллинеарные (линейно-зависимые) столбцы, матрица $X^TX$ становится вырожденной, и формула перестает быть корректной. Чем более зависимы признаки, тем меньше определитель этой матрицы и тем хуже аппроксимация $Xw \\approx y$. Такая ситуацию называют _проблемой мультиколлинеарности_, вы обсуждали ее на лекции."
   ]
  },
  {
   "cell_type": "markdown",
   "metadata": {
    "id": "LRuKMUuQJidE"
   },
   "source": [
    "С парой temp-atemp чуть менее коррелирующих переменных такого не произошло, однако на практике всегда стоит внимательно следить за коэффициентами при похожих признаках."
   ]
  },
  {
   "cell_type": "markdown",
   "metadata": {
    "id": "k0QGkbIBJidE"
   },
   "source": [
    "__Решение__ проблемы мультиколлинеарности состоит в _регуляризации_ линейной модели. К оптимизируемому функционалу прибавляют L1 или L2 норму весов, умноженную на коэффициент регуляризации $\\alpha$. В первом случае метод называется Lasso, а во втором --- Ridge. Подробнее об этом также рассказано в лекции."
   ]
  },
  {
   "cell_type": "markdown",
   "metadata": {
    "id": "TAcO9EgRJidE"
   },
   "source": [
    "Обучите регрессоры Ridge и Lasso с параметрами по умолчанию и убедитесь, что проблема с весами решилась."
   ]
  },
  {
   "cell_type": "code",
   "execution_count": 18,
   "metadata": {
    "id": "_ZlpEluuJidE"
   },
   "outputs": [],
   "source": [
    "from sklearn.linear_model import Lasso, Ridge"
   ]
  },
  {
   "cell_type": "code",
   "execution_count": 19,
   "metadata": {
    "colab": {
     "base_uri": "https://localhost:8080/"
    },
    "id": "FBNEhsJ6JidF",
    "outputId": "0fa4ed2c-db59-44f0-d877-d98461c85b89"
   },
   "outputs": [
    {
     "data": {
      "text/plain": [
       "[('season', 560.2416160308869),\n",
       " ('yr', 1019.4634940657196),\n",
       " ('mnth', -128.73062703678752),\n",
       " ('holiday', -86.15278133371116),\n",
       " ('weekday', 137.34789390496314),\n",
       " ('workingday', 55.212370641356685),\n",
       " ('weathersit', -332.3698569623484),\n",
       " ('temp', 376.3632362096995),\n",
       " ('atemp', 576.5307935045503),\n",
       " ('hum', -144.1291550034858),\n",
       " ('windspeed(mph)', -197.13968940248557),\n",
       " ('windspeed(ms)', -2.8050167469807684e-08)]"
      ]
     },
     "execution_count": 19,
     "metadata": {},
     "output_type": "execute_result"
    }
   ],
   "source": [
    "# Код 2.2 (0.5 балла)\n",
    "# Обучите линейную модель с L1-регуляризацией и выведите веса\n",
    "lasso_model = Lasso()\n",
    "lasso_model.fit(X, y)\n",
    "list(zip(feature_cols, lasso_model.coef_))"
   ]
  },
  {
   "cell_type": "code",
   "execution_count": 20,
   "metadata": {
    "colab": {
     "base_uri": "https://localhost:8080/"
    },
    "id": "iuwCTV3DJidF",
    "outputId": "086f729d-b82d-4a45-b5f2-5c9960bd6003"
   },
   "outputs": [
    {
     "data": {
      "text/plain": [
       "[('season', 563.0645722520175),\n",
       " ('yr', 1018.9483787875301),\n",
       " ('mnth', -131.873320282477),\n",
       " ('holiday', -86.74609799709219),\n",
       " ('weekday', 138.0051111787191),\n",
       " ('workingday', 55.90311037506478),\n",
       " ('weathersit', -332.34978849907395),\n",
       " ('temp', 386.4578891919065),\n",
       " ('atemp', 566.3470470600686),\n",
       " ('hum', -145.07132729867178),\n",
       " ('windspeed(mph)', -99.25944108179063),\n",
       " ('windspeed(ms)', -99.25944115434177)]"
      ]
     },
     "execution_count": 20,
     "metadata": {},
     "output_type": "execute_result"
    }
   ],
   "source": [
    "# Код 2.3 (0.5 балла)\n",
    "# Обучите линейную модель с L2-регуляризацией и выведите веса\n",
    "ridge_model = Ridge()\n",
    "ridge_model.fit(X, y)\n",
    "list(zip(feature_cols, ridge_model.coef_))"
   ]
  },
  {
   "cell_type": "markdown",
   "metadata": {
    "id": "oGrQnVYhJidF"
   },
   "source": [
    "### Проблема вторая: неинформативные признаки"
   ]
  },
  {
   "cell_type": "markdown",
   "metadata": {
    "id": "Sy5_Qsz-JidG"
   },
   "source": [
    "В отличие от L2-регуляризации, L1 обнуляет веса при некоторых признаках. Объяснение данному факту дается в одной из лекций курса.\n",
    "\n",
    "Давайте пронаблюдаем, как меняются веса при увеличении коэффициента регуляризации $\\alpha$ (в лекции коэффициент при регуляризаторе мог быть обозначен другой буквой)."
   ]
  },
  {
   "cell_type": "code",
   "execution_count": 21,
   "metadata": {
    "id": "L9_W3rmZJidG"
   },
   "outputs": [],
   "source": [
    "# Код 3.1 (1 балл)\n",
    "alphas = np.arange(1, 500, 50)\n",
    "coefs_lasso = np.zeros((alphas.shape[0], X.shape[1])) # матрица весов размера (число регрессоров) x (число признаков)\n",
    "coefs_ridge = np.zeros((alphas.shape[0], X.shape[1]))\n",
    "# Для каждого значения коэффициента из alphas обучите регрессор Lasso\n",
    "# и запишите веса в соответствующую строку матрицы coefs_lasso (вспомните встроенную в python функцию enumerate),\n",
    "# а затем обучите Ridge и запишите веса в coefs_ridge.\n",
    "for i, alpha in enumerate(alphas):\n",
    "  lasso_model = Lasso(alpha)\n",
    "  lasso_model.fit(X, y)\n",
    "  coefs_lasso[i] = lasso_model.coef_\n",
    "  \n",
    "  ridge_model = Ridge(alpha)\n",
    "  ridge_model.fit(X, y)\n",
    "  coefs_ridge[i] = ridge_model.coef_"
   ]
  },
  {
   "cell_type": "code",
   "execution_count": 22,
   "metadata": {
    "colab": {
     "base_uri": "https://localhost:8080/",
     "height": 359
    },
    "id": "8avaDBiQggiO",
    "outputId": "de5f87d1-3b8d-4fd9-f885-fda088a596ff"
   },
   "outputs": [
    {
     "data": {
      "text/html": [
       "\n",
       "  <div id=\"df-0f1ccbbe-b130-4794-bab1-b2b4c68521b6\">\n",
       "    <div class=\"colab-df-container\">\n",
       "      <div>\n",
       "<style scoped>\n",
       "    .dataframe tbody tr th:only-of-type {\n",
       "        vertical-align: middle;\n",
       "    }\n",
       "\n",
       "    .dataframe tbody tr th {\n",
       "        vertical-align: top;\n",
       "    }\n",
       "\n",
       "    .dataframe thead th {\n",
       "        text-align: right;\n",
       "    }\n",
       "</style>\n",
       "<table border=\"1\" class=\"dataframe\">\n",
       "  <thead>\n",
       "    <tr style=\"text-align: right;\">\n",
       "      <th></th>\n",
       "      <th>0</th>\n",
       "      <th>1</th>\n",
       "      <th>2</th>\n",
       "      <th>3</th>\n",
       "      <th>4</th>\n",
       "      <th>5</th>\n",
       "      <th>6</th>\n",
       "      <th>7</th>\n",
       "      <th>8</th>\n",
       "      <th>9</th>\n",
       "      <th>10</th>\n",
       "      <th>11</th>\n",
       "    </tr>\n",
       "  </thead>\n",
       "  <tbody>\n",
       "    <tr>\n",
       "      <th>0</th>\n",
       "      <td>560.241616</td>\n",
       "      <td>1019.463494</td>\n",
       "      <td>-128.730627</td>\n",
       "      <td>-86.152781</td>\n",
       "      <td>137.347894</td>\n",
       "      <td>55.212371</td>\n",
       "      <td>-332.369857</td>\n",
       "      <td>376.363236</td>\n",
       "      <td>576.530794</td>\n",
       "      <td>-144.129155</td>\n",
       "      <td>-197.139689</td>\n",
       "      <td>-2.805017e-08</td>\n",
       "    </tr>\n",
       "    <tr>\n",
       "      <th>1</th>\n",
       "      <td>410.969632</td>\n",
       "      <td>977.019409</td>\n",
       "      <td>-0.000000</td>\n",
       "      <td>-53.448969</td>\n",
       "      <td>91.943437</td>\n",
       "      <td>17.537212</td>\n",
       "      <td>-318.125568</td>\n",
       "      <td>322.829934</td>\n",
       "      <td>610.031512</td>\n",
       "      <td>-91.068962</td>\n",
       "      <td>-145.066095</td>\n",
       "      <td>-2.298729e-08</td>\n",
       "    </tr>\n",
       "    <tr>\n",
       "      <th>2</th>\n",
       "      <td>370.077089</td>\n",
       "      <td>935.945490</td>\n",
       "      <td>0.000000</td>\n",
       "      <td>-12.161936</td>\n",
       "      <td>48.888634</td>\n",
       "      <td>0.000000</td>\n",
       "      <td>-308.805664</td>\n",
       "      <td>269.417263</td>\n",
       "      <td>632.502623</td>\n",
       "      <td>-27.504288</td>\n",
       "      <td>-93.774904</td>\n",
       "      <td>-2.416434e-08</td>\n",
       "    </tr>\n",
       "    <tr>\n",
       "      <th>3</th>\n",
       "      <td>332.835717</td>\n",
       "      <td>891.870058</td>\n",
       "      <td>0.000000</td>\n",
       "      <td>-0.000000</td>\n",
       "      <td>0.000000</td>\n",
       "      <td>0.000000</td>\n",
       "      <td>-279.616688</td>\n",
       "      <td>211.052030</td>\n",
       "      <td>662.920880</td>\n",
       "      <td>-0.000000</td>\n",
       "      <td>-50.155147</td>\n",
       "      <td>-2.627654e-08</td>\n",
       "    </tr>\n",
       "    <tr>\n",
       "      <th>4</th>\n",
       "      <td>298.134448</td>\n",
       "      <td>845.652857</td>\n",
       "      <td>0.000000</td>\n",
       "      <td>-0.000000</td>\n",
       "      <td>0.000000</td>\n",
       "      <td>0.000000</td>\n",
       "      <td>-235.571345</td>\n",
       "      <td>124.144807</td>\n",
       "      <td>725.379483</td>\n",
       "      <td>-0.000000</td>\n",
       "      <td>-12.646177</td>\n",
       "      <td>-2.787741e-08</td>\n",
       "    </tr>\n",
       "    <tr>\n",
       "      <th>5</th>\n",
       "      <td>258.927201</td>\n",
       "      <td>799.237273</td>\n",
       "      <td>0.000000</td>\n",
       "      <td>-0.000000</td>\n",
       "      <td>0.000000</td>\n",
       "      <td>0.000000</td>\n",
       "      <td>-190.821549</td>\n",
       "      <td>72.075938</td>\n",
       "      <td>750.363107</td>\n",
       "      <td>-0.000000</td>\n",
       "      <td>-0.000000</td>\n",
       "      <td>-0.000000e+00</td>\n",
       "    </tr>\n",
       "    <tr>\n",
       "      <th>6</th>\n",
       "      <td>217.427513</td>\n",
       "      <td>752.720808</td>\n",
       "      <td>0.000000</td>\n",
       "      <td>-0.000000</td>\n",
       "      <td>0.000000</td>\n",
       "      <td>0.000000</td>\n",
       "      <td>-145.713398</td>\n",
       "      <td>37.715365</td>\n",
       "      <td>756.296866</td>\n",
       "      <td>-0.000000</td>\n",
       "      <td>-0.000000</td>\n",
       "      <td>-0.000000e+00</td>\n",
       "    </tr>\n",
       "    <tr>\n",
       "      <th>7</th>\n",
       "      <td>175.929845</td>\n",
       "      <td>706.203788</td>\n",
       "      <td>0.000000</td>\n",
       "      <td>-0.000000</td>\n",
       "      <td>0.000000</td>\n",
       "      <td>0.000000</td>\n",
       "      <td>-100.605389</td>\n",
       "      <td>3.660938</td>\n",
       "      <td>761.926337</td>\n",
       "      <td>-0.000000</td>\n",
       "      <td>-0.000000</td>\n",
       "      <td>-0.000000e+00</td>\n",
       "    </tr>\n",
       "    <tr>\n",
       "      <th>8</th>\n",
       "      <td>134.628497</td>\n",
       "      <td>659.632535</td>\n",
       "      <td>0.000000</td>\n",
       "      <td>-0.000000</td>\n",
       "      <td>0.000000</td>\n",
       "      <td>0.000000</td>\n",
       "      <td>-55.511063</td>\n",
       "      <td>0.000000</td>\n",
       "      <td>737.348061</td>\n",
       "      <td>-0.000000</td>\n",
       "      <td>-0.000000</td>\n",
       "      <td>-0.000000e+00</td>\n",
       "    </tr>\n",
       "    <tr>\n",
       "      <th>9</th>\n",
       "      <td>93.351742</td>\n",
       "      <td>613.054639</td>\n",
       "      <td>0.000000</td>\n",
       "      <td>-0.000000</td>\n",
       "      <td>0.000000</td>\n",
       "      <td>0.000000</td>\n",
       "      <td>-10.418569</td>\n",
       "      <td>0.000000</td>\n",
       "      <td>709.130877</td>\n",
       "      <td>-0.000000</td>\n",
       "      <td>-0.000000</td>\n",
       "      <td>-0.000000e+00</td>\n",
       "    </tr>\n",
       "  </tbody>\n",
       "</table>\n",
       "</div>\n",
       "      <button class=\"colab-df-convert\" onclick=\"convertToInteractive('df-0f1ccbbe-b130-4794-bab1-b2b4c68521b6')\"\n",
       "              title=\"Convert this dataframe to an interactive table.\"\n",
       "              style=\"display:none;\">\n",
       "        \n",
       "  <svg xmlns=\"http://www.w3.org/2000/svg\" height=\"24px\"viewBox=\"0 0 24 24\"\n",
       "       width=\"24px\">\n",
       "    <path d=\"M0 0h24v24H0V0z\" fill=\"none\"/>\n",
       "    <path d=\"M18.56 5.44l.94 2.06.94-2.06 2.06-.94-2.06-.94-.94-2.06-.94 2.06-2.06.94zm-11 1L8.5 8.5l.94-2.06 2.06-.94-2.06-.94L8.5 2.5l-.94 2.06-2.06.94zm10 10l.94 2.06.94-2.06 2.06-.94-2.06-.94-.94-2.06-.94 2.06-2.06.94z\"/><path d=\"M17.41 7.96l-1.37-1.37c-.4-.4-.92-.59-1.43-.59-.52 0-1.04.2-1.43.59L10.3 9.45l-7.72 7.72c-.78.78-.78 2.05 0 2.83L4 21.41c.39.39.9.59 1.41.59.51 0 1.02-.2 1.41-.59l7.78-7.78 2.81-2.81c.8-.78.8-2.07 0-2.86zM5.41 20L4 18.59l7.72-7.72 1.47 1.35L5.41 20z\"/>\n",
       "  </svg>\n",
       "      </button>\n",
       "      \n",
       "  <style>\n",
       "    .colab-df-container {\n",
       "      display:flex;\n",
       "      flex-wrap:wrap;\n",
       "      gap: 12px;\n",
       "    }\n",
       "\n",
       "    .colab-df-convert {\n",
       "      background-color: #E8F0FE;\n",
       "      border: none;\n",
       "      border-radius: 50%;\n",
       "      cursor: pointer;\n",
       "      display: none;\n",
       "      fill: #1967D2;\n",
       "      height: 32px;\n",
       "      padding: 0 0 0 0;\n",
       "      width: 32px;\n",
       "    }\n",
       "\n",
       "    .colab-df-convert:hover {\n",
       "      background-color: #E2EBFA;\n",
       "      box-shadow: 0px 1px 2px rgba(60, 64, 67, 0.3), 0px 1px 3px 1px rgba(60, 64, 67, 0.15);\n",
       "      fill: #174EA6;\n",
       "    }\n",
       "\n",
       "    [theme=dark] .colab-df-convert {\n",
       "      background-color: #3B4455;\n",
       "      fill: #D2E3FC;\n",
       "    }\n",
       "\n",
       "    [theme=dark] .colab-df-convert:hover {\n",
       "      background-color: #434B5C;\n",
       "      box-shadow: 0px 1px 3px 1px rgba(0, 0, 0, 0.15);\n",
       "      filter: drop-shadow(0px 1px 2px rgba(0, 0, 0, 0.3));\n",
       "      fill: #FFFFFF;\n",
       "    }\n",
       "  </style>\n",
       "\n",
       "      <script>\n",
       "        const buttonEl =\n",
       "          document.querySelector('#df-0f1ccbbe-b130-4794-bab1-b2b4c68521b6 button.colab-df-convert');\n",
       "        buttonEl.style.display =\n",
       "          google.colab.kernel.accessAllowed ? 'block' : 'none';\n",
       "\n",
       "        async function convertToInteractive(key) {\n",
       "          const element = document.querySelector('#df-0f1ccbbe-b130-4794-bab1-b2b4c68521b6');\n",
       "          const dataTable =\n",
       "            await google.colab.kernel.invokeFunction('convertToInteractive',\n",
       "                                                     [key], {});\n",
       "          if (!dataTable) return;\n",
       "\n",
       "          const docLinkHtml = 'Like what you see? Visit the ' +\n",
       "            '<a target=\"_blank\" href=https://colab.research.google.com/notebooks/data_table.ipynb>data table notebook</a>'\n",
       "            + ' to learn more about interactive tables.';\n",
       "          element.innerHTML = '';\n",
       "          dataTable['output_type'] = 'display_data';\n",
       "          await google.colab.output.renderOutput(dataTable, element);\n",
       "          const docLink = document.createElement('div');\n",
       "          docLink.innerHTML = docLinkHtml;\n",
       "          element.appendChild(docLink);\n",
       "        }\n",
       "      </script>\n",
       "    </div>\n",
       "  </div>\n",
       "  "
      ],
      "text/plain": [
       "           0            1           2   ...          9           10            11\n",
       "0  560.241616  1019.463494 -128.730627  ... -144.129155 -197.139689 -2.805017e-08\n",
       "1  410.969632   977.019409   -0.000000  ...  -91.068962 -145.066095 -2.298729e-08\n",
       "2  370.077089   935.945490    0.000000  ...  -27.504288  -93.774904 -2.416434e-08\n",
       "3  332.835717   891.870058    0.000000  ...   -0.000000  -50.155147 -2.627654e-08\n",
       "4  298.134448   845.652857    0.000000  ...   -0.000000  -12.646177 -2.787741e-08\n",
       "5  258.927201   799.237273    0.000000  ...   -0.000000   -0.000000 -0.000000e+00\n",
       "6  217.427513   752.720808    0.000000  ...   -0.000000   -0.000000 -0.000000e+00\n",
       "7  175.929845   706.203788    0.000000  ...   -0.000000   -0.000000 -0.000000e+00\n",
       "8  134.628497   659.632535    0.000000  ...   -0.000000   -0.000000 -0.000000e+00\n",
       "9   93.351742   613.054639    0.000000  ...   -0.000000   -0.000000 -0.000000e+00\n",
       "\n",
       "[10 rows x 12 columns]"
      ]
     },
     "execution_count": 22,
     "metadata": {},
     "output_type": "execute_result"
    }
   ],
   "source": [
    "pd.DataFrame(coefs_lasso)"
   ]
  },
  {
   "cell_type": "code",
   "execution_count": 23,
   "metadata": {
    "colab": {
     "base_uri": "https://localhost:8080/",
     "height": 359
    },
    "id": "5AA6528UgYL5",
    "outputId": "b87b1002-370d-427c-9094-54c4dd1066c0"
   },
   "outputs": [
    {
     "data": {
      "text/html": [
       "\n",
       "  <div id=\"df-9ab82dd8-7461-4d6a-9007-41d43aea0901\">\n",
       "    <div class=\"colab-df-container\">\n",
       "      <div>\n",
       "<style scoped>\n",
       "    .dataframe tbody tr th:only-of-type {\n",
       "        vertical-align: middle;\n",
       "    }\n",
       "\n",
       "    .dataframe tbody tr th {\n",
       "        vertical-align: top;\n",
       "    }\n",
       "\n",
       "    .dataframe thead th {\n",
       "        text-align: right;\n",
       "    }\n",
       "</style>\n",
       "<table border=\"1\" class=\"dataframe\">\n",
       "  <thead>\n",
       "    <tr style=\"text-align: right;\">\n",
       "      <th></th>\n",
       "      <th>0</th>\n",
       "      <th>1</th>\n",
       "      <th>2</th>\n",
       "      <th>3</th>\n",
       "      <th>4</th>\n",
       "      <th>5</th>\n",
       "      <th>6</th>\n",
       "      <th>7</th>\n",
       "      <th>8</th>\n",
       "      <th>9</th>\n",
       "      <th>10</th>\n",
       "      <th>11</th>\n",
       "    </tr>\n",
       "  </thead>\n",
       "  <tbody>\n",
       "    <tr>\n",
       "      <th>0</th>\n",
       "      <td>563.064572</td>\n",
       "      <td>1018.948379</td>\n",
       "      <td>-131.873320</td>\n",
       "      <td>-86.746098</td>\n",
       "      <td>138.005111</td>\n",
       "      <td>55.903110</td>\n",
       "      <td>-332.349788</td>\n",
       "      <td>386.457889</td>\n",
       "      <td>566.347047</td>\n",
       "      <td>-145.071327</td>\n",
       "      <td>-99.259441</td>\n",
       "      <td>-99.259441</td>\n",
       "    </tr>\n",
       "    <tr>\n",
       "      <th>1</th>\n",
       "      <td>461.178632</td>\n",
       "      <td>954.307742</td>\n",
       "      <td>-41.565450</td>\n",
       "      <td>-84.913470</td>\n",
       "      <td>126.603667</td>\n",
       "      <td>54.251691</td>\n",
       "      <td>-313.275151</td>\n",
       "      <td>458.901477</td>\n",
       "      <td>481.443500</td>\n",
       "      <td>-151.291010</td>\n",
       "      <td>-101.627315</td>\n",
       "      <td>-101.627315</td>\n",
       "    </tr>\n",
       "    <tr>\n",
       "      <th>2</th>\n",
       "      <td>403.976530</td>\n",
       "      <td>898.083622</td>\n",
       "      <td>5.674243</td>\n",
       "      <td>-81.911062</td>\n",
       "      <td>117.941411</td>\n",
       "      <td>52.728484</td>\n",
       "      <td>-298.408981</td>\n",
       "      <td>455.289868</td>\n",
       "      <td>467.431417</td>\n",
       "      <td>-152.686051</td>\n",
       "      <td>-102.101671</td>\n",
       "      <td>-102.101671</td>\n",
       "    </tr>\n",
       "    <tr>\n",
       "      <th>3</th>\n",
       "      <td>366.604239</td>\n",
       "      <td>848.463465</td>\n",
       "      <td>34.027283</td>\n",
       "      <td>-78.771965</td>\n",
       "      <td>110.680120</td>\n",
       "      <td>51.257192</td>\n",
       "      <td>-286.125159</td>\n",
       "      <td>447.479825</td>\n",
       "      <td>455.754030</td>\n",
       "      <td>-151.483206</td>\n",
       "      <td>-102.005376</td>\n",
       "      <td>-102.005376</td>\n",
       "    </tr>\n",
       "    <tr>\n",
       "      <th>4</th>\n",
       "      <td>339.745290</td>\n",
       "      <td>804.251048</td>\n",
       "      <td>52.489873</td>\n",
       "      <td>-75.717408</td>\n",
       "      <td>104.403464</td>\n",
       "      <td>49.841895</td>\n",
       "      <td>-275.486095</td>\n",
       "      <td>438.509689</td>\n",
       "      <td>444.764274</td>\n",
       "      <td>-148.943970</td>\n",
       "      <td>-101.586385</td>\n",
       "      <td>-101.586385</td>\n",
       "    </tr>\n",
       "    <tr>\n",
       "      <th>5</th>\n",
       "      <td>319.158641</td>\n",
       "      <td>764.561434</td>\n",
       "      <td>65.152007</td>\n",
       "      <td>-72.819708</td>\n",
       "      <td>98.878804</td>\n",
       "      <td>48.484525</td>\n",
       "      <td>-266.002556</td>\n",
       "      <td>429.214123</td>\n",
       "      <td>434.235235</td>\n",
       "      <td>-145.698115</td>\n",
       "      <td>-100.964711</td>\n",
       "      <td>-100.964711</td>\n",
       "    </tr>\n",
       "    <tr>\n",
       "      <th>6</th>\n",
       "      <td>302.636060</td>\n",
       "      <td>728.708540</td>\n",
       "      <td>74.138281</td>\n",
       "      <td>-70.098983</td>\n",
       "      <td>93.955811</td>\n",
       "      <td>47.185338</td>\n",
       "      <td>-257.390629</td>\n",
       "      <td>419.926152</td>\n",
       "      <td>424.121922</td>\n",
       "      <td>-142.089345</td>\n",
       "      <td>-100.208620</td>\n",
       "      <td>-100.208620</td>\n",
       "    </tr>\n",
       "    <tr>\n",
       "      <th>7</th>\n",
       "      <td>288.913276</td>\n",
       "      <td>696.145816</td>\n",
       "      <td>80.660457</td>\n",
       "      <td>-67.554852</td>\n",
       "      <td>89.528675</td>\n",
       "      <td>45.943467</td>\n",
       "      <td>-249.471395</td>\n",
       "      <td>410.800184</td>\n",
       "      <td>414.409373</td>\n",
       "      <td>-138.316538</td>\n",
       "      <td>-99.360661</td>\n",
       "      <td>-99.360661</td>\n",
       "    </tr>\n",
       "    <tr>\n",
       "      <th>8</th>\n",
       "      <td>277.213216</td>\n",
       "      <td>666.429747</td>\n",
       "      <td>85.459254</td>\n",
       "      <td>-65.178706</td>\n",
       "      <td>85.518667</td>\n",
       "      <td>44.757303</td>\n",
       "      <td>-242.124399</td>\n",
       "      <td>401.911945</td>\n",
       "      <td>405.085853</td>\n",
       "      <td>-134.499038</td>\n",
       "      <td>-98.449064</td>\n",
       "      <td>-98.449064</td>\n",
       "    </tr>\n",
       "    <tr>\n",
       "      <th>9</th>\n",
       "      <td>267.031090</td>\n",
       "      <td>639.195368</td>\n",
       "      <td>89.012323</td>\n",
       "      <td>-62.958906</td>\n",
       "      <td>81.864909</td>\n",
       "      <td>43.624770</td>\n",
       "      <td>-235.263997</td>\n",
       "      <td>393.297986</td>\n",
       "      <td>396.138155</td>\n",
       "      <td>-130.709872</td>\n",
       "      <td>-97.493434</td>\n",
       "      <td>-97.493434</td>\n",
       "    </tr>\n",
       "  </tbody>\n",
       "</table>\n",
       "</div>\n",
       "      <button class=\"colab-df-convert\" onclick=\"convertToInteractive('df-9ab82dd8-7461-4d6a-9007-41d43aea0901')\"\n",
       "              title=\"Convert this dataframe to an interactive table.\"\n",
       "              style=\"display:none;\">\n",
       "        \n",
       "  <svg xmlns=\"http://www.w3.org/2000/svg\" height=\"24px\"viewBox=\"0 0 24 24\"\n",
       "       width=\"24px\">\n",
       "    <path d=\"M0 0h24v24H0V0z\" fill=\"none\"/>\n",
       "    <path d=\"M18.56 5.44l.94 2.06.94-2.06 2.06-.94-2.06-.94-.94-2.06-.94 2.06-2.06.94zm-11 1L8.5 8.5l.94-2.06 2.06-.94-2.06-.94L8.5 2.5l-.94 2.06-2.06.94zm10 10l.94 2.06.94-2.06 2.06-.94-2.06-.94-.94-2.06-.94 2.06-2.06.94z\"/><path d=\"M17.41 7.96l-1.37-1.37c-.4-.4-.92-.59-1.43-.59-.52 0-1.04.2-1.43.59L10.3 9.45l-7.72 7.72c-.78.78-.78 2.05 0 2.83L4 21.41c.39.39.9.59 1.41.59.51 0 1.02-.2 1.41-.59l7.78-7.78 2.81-2.81c.8-.78.8-2.07 0-2.86zM5.41 20L4 18.59l7.72-7.72 1.47 1.35L5.41 20z\"/>\n",
       "  </svg>\n",
       "      </button>\n",
       "      \n",
       "  <style>\n",
       "    .colab-df-container {\n",
       "      display:flex;\n",
       "      flex-wrap:wrap;\n",
       "      gap: 12px;\n",
       "    }\n",
       "\n",
       "    .colab-df-convert {\n",
       "      background-color: #E8F0FE;\n",
       "      border: none;\n",
       "      border-radius: 50%;\n",
       "      cursor: pointer;\n",
       "      display: none;\n",
       "      fill: #1967D2;\n",
       "      height: 32px;\n",
       "      padding: 0 0 0 0;\n",
       "      width: 32px;\n",
       "    }\n",
       "\n",
       "    .colab-df-convert:hover {\n",
       "      background-color: #E2EBFA;\n",
       "      box-shadow: 0px 1px 2px rgba(60, 64, 67, 0.3), 0px 1px 3px 1px rgba(60, 64, 67, 0.15);\n",
       "      fill: #174EA6;\n",
       "    }\n",
       "\n",
       "    [theme=dark] .colab-df-convert {\n",
       "      background-color: #3B4455;\n",
       "      fill: #D2E3FC;\n",
       "    }\n",
       "\n",
       "    [theme=dark] .colab-df-convert:hover {\n",
       "      background-color: #434B5C;\n",
       "      box-shadow: 0px 1px 3px 1px rgba(0, 0, 0, 0.15);\n",
       "      filter: drop-shadow(0px 1px 2px rgba(0, 0, 0, 0.3));\n",
       "      fill: #FFFFFF;\n",
       "    }\n",
       "  </style>\n",
       "\n",
       "      <script>\n",
       "        const buttonEl =\n",
       "          document.querySelector('#df-9ab82dd8-7461-4d6a-9007-41d43aea0901 button.colab-df-convert');\n",
       "        buttonEl.style.display =\n",
       "          google.colab.kernel.accessAllowed ? 'block' : 'none';\n",
       "\n",
       "        async function convertToInteractive(key) {\n",
       "          const element = document.querySelector('#df-9ab82dd8-7461-4d6a-9007-41d43aea0901');\n",
       "          const dataTable =\n",
       "            await google.colab.kernel.invokeFunction('convertToInteractive',\n",
       "                                                     [key], {});\n",
       "          if (!dataTable) return;\n",
       "\n",
       "          const docLinkHtml = 'Like what you see? Visit the ' +\n",
       "            '<a target=\"_blank\" href=https://colab.research.google.com/notebooks/data_table.ipynb>data table notebook</a>'\n",
       "            + ' to learn more about interactive tables.';\n",
       "          element.innerHTML = '';\n",
       "          dataTable['output_type'] = 'display_data';\n",
       "          await google.colab.output.renderOutput(dataTable, element);\n",
       "          const docLink = document.createElement('div');\n",
       "          docLink.innerHTML = docLinkHtml;\n",
       "          element.appendChild(docLink);\n",
       "        }\n",
       "      </script>\n",
       "    </div>\n",
       "  </div>\n",
       "  "
      ],
      "text/plain": [
       "           0            1           2   ...          9           10          11\n",
       "0  563.064572  1018.948379 -131.873320  ... -145.071327  -99.259441  -99.259441\n",
       "1  461.178632   954.307742  -41.565450  ... -151.291010 -101.627315 -101.627315\n",
       "2  403.976530   898.083622    5.674243  ... -152.686051 -102.101671 -102.101671\n",
       "3  366.604239   848.463465   34.027283  ... -151.483206 -102.005376 -102.005376\n",
       "4  339.745290   804.251048   52.489873  ... -148.943970 -101.586385 -101.586385\n",
       "5  319.158641   764.561434   65.152007  ... -145.698115 -100.964711 -100.964711\n",
       "6  302.636060   728.708540   74.138281  ... -142.089345 -100.208620 -100.208620\n",
       "7  288.913276   696.145816   80.660457  ... -138.316538  -99.360661  -99.360661\n",
       "8  277.213216   666.429747   85.459254  ... -134.499038  -98.449064  -98.449064\n",
       "9  267.031090   639.195368   89.012323  ... -130.709872  -97.493434  -97.493434\n",
       "\n",
       "[10 rows x 12 columns]"
      ]
     },
     "execution_count": 23,
     "metadata": {},
     "output_type": "execute_result"
    }
   ],
   "source": [
    "pd.DataFrame(coefs_ridge)"
   ]
  },
  {
   "cell_type": "markdown",
   "metadata": {
    "id": "MnM7NDL2JidG"
   },
   "source": [
    "Визуализируем динамику весов при увеличении параметра регуляризации:"
   ]
  },
  {
   "cell_type": "code",
   "execution_count": 24,
   "metadata": {
    "colab": {
     "base_uri": "https://localhost:8080/",
     "height": 700
    },
    "id": "V0EBYyLKJidH",
    "outputId": "3c4ac89d-32b4-474c-e588-600800117c61"
   },
   "outputs": [
    {
     "data": {
      "text/plain": [
       "Text(0.5, 1.0, 'Ridge')"
      ]
     },
     "execution_count": 24,
     "metadata": {},
     "output_type": "execute_result"
    },
    {
     "data": {
      "image/png": "[encoded data removed]",
      "text/plain": [
       "<Figure size 576x360 with 1 Axes>"
      ]
     },
     "metadata": {
      "needs_background": "light"
     },
     "output_type": "display_data"
    },
    {
     "data": {
      "image/png": "[encoded data removed]",
      "text/plain": [
       "<Figure size 576x360 with 1 Axes>"
      ]
     },
     "metadata": {
      "needs_background": "light"
     },
     "output_type": "display_data"
    }
   ],
   "source": [
    "plt.figure(figsize=(8, 5))\n",
    "for coef, feature in zip(coefs_lasso.T, df.columns):\n",
    "    plt.plot(alphas, coef, label=feature, color=np.random.rand(3))\n",
    "plt.legend(loc=\"upper right\", bbox_to_anchor=(1.4, 0.95))\n",
    "plt.xlabel(\"alpha\")\n",
    "plt.ylabel(\"feature weight\")\n",
    "plt.title(\"Lasso\")\n",
    "\n",
    "plt.figure(figsize=(8, 5))\n",
    "for coef, feature in zip(coefs_ridge.T, df.columns):\n",
    "    plt.plot(alphas, coef, label=feature, color=np.random.rand(3))\n",
    "plt.legend(loc=\"upper right\", bbox_to_anchor=(1.4, 0.95))\n",
    "plt.xlabel(\"alpha\")\n",
    "plt.ylabel(\"feature weight\")\n",
    "plt.title(\"Ridge\")"
   ]
  },
  {
   "cell_type": "markdown",
   "metadata": {
    "id": "3jgoSS2sJidH"
   },
   "source": [
    "Ответы на следующие вопросы можно давать, глядя на графики или выводя коэффициенты на печать.\n",
    "\n",
    "__Блок 2. Ответьте на вопросы (каждый 0.25 балла)__:\n",
    "1. Какой регуляризатор (Ridge или Lasso) агрессивнее уменьшает веса при одном и том же alpha?\n",
    "    * Ответ: Лассо\n",
    "1. Что произойдет с весами Lasso, если alpha сделать очень большим? Поясните, почему так происходит.\n",
    "    * Ответ: lasso исключает некоторые признаки при больших значениях alpha. Скорее всего он это делает потому, что эти признаки являются неинформативными\n",
    "1. Можно ли утверждать, что Lasso исключает один из признаков windspeed при любом значении alpha > 0? А Ridge? Ситается, что регуляризатор исключает признак, если коэффициент при нем < 1e-3.\n",
    "    * Ответ:   да, лассо исключает один из признаков windspeed, а также при alpha > 200 исключает и второй. Ridge не исключает ни один из признаков при любом значении alpha \n",
    "1. Какой из регуляризаторов подойдет для отбора неинформативных признаков?\n",
    "    * Ответ: lasso"
   ]
  },
  {
   "cell_type": "markdown",
   "metadata": {
    "id": "8vJB7N7yJidH"
   },
   "source": [
    "Далее будем работать с Lasso.\n",
    "\n",
    "Итак, мы видим, что при изменении alpha модель по-разному подбирает коэффициенты признаков. Нам нужно выбрать наилучшее alpha. "
   ]
  },
  {
   "cell_type": "markdown",
   "metadata": {
    "id": "Qt_PGI2UJidH"
   },
   "source": [
    "Для этого, во-первых, нам нужна метрика качества. Будем использовать в качестве метрики сам оптимизируемый функционал метода наименьших квадратов, то есть Mean Square Error.\n",
    "\n",
    "Во-вторых, нужно понять, на каких данных эту метрику считать. Нельзя выбирать alpha по значению MSE на обучающей выборке, потому что тогда мы не сможем оценить, как модель будет делать предсказания на новых для нее данных. Если мы выберем одно разбиение выборки на обучающую и тестовую (это называется holdout), то настроимся на конкретные \"новые\" данные, и вновь можем переобучиться. Поэтому будем делать несколько разбиений выборки, на каждом пробовать разные значения alpha, а затем усреднять MSE. Удобнее всего делать такие разбиения кросс-валидацией, то есть разделить выборку на K частей, или блоков, и каждый раз брать одну из них как тестовую, а из оставшихся блоков составлять обучающую выборку. "
   ]
  },
  {
   "cell_type": "markdown",
   "metadata": {
    "id": "5lWBJKYWJidH"
   },
   "source": [
    "Делать кросс-валидацию для регрессии в sklearn совсем просто: для этого есть специальный регрессор, __LassoCV__, который берет на вход список из alpha и для каждого из них вычисляет MSE на кросс-валидации. После обучения (установить параметр cv=3) регрессор будет содержать переменную __mse\\_path\\___, матрицу размера len(alpha) x k, k = 3 (число блоков в кросс-валидации), содержащую значения MSE на тесте для соответствующих запусков. Кроме того, в переменной alpha\\_ будет храниться выбранное значение параметра регуляризации, а в coef\\_, традиционно, обученные веса, соответствующие этому alpha_.\n",
    "\n",
    "Обратите внимание, что регрессор может менять порядок, в котором он проходит по alphas; для сопоставления с матрицей MSE лучше использовать переменную регрессора alphas_."
   ]
  },
  {
   "cell_type": "code",
   "execution_count": 20,
   "metadata": {
    "id": "9Nff6b92JidI"
   },
   "outputs": [],
   "source": [
    "from sklearn.linear_model import LassoCV"
   ]
  },
  {
   "cell_type": "code",
   "execution_count": 21,
   "metadata": {
    "id": "bdj6r0cWJidI"
   },
   "outputs": [],
   "source": [
    "# Код 3.2 (1 балл)\n",
    "# Обучите регрессор LassoCV на всех параметрах регуляризации из alpha\n",
    "# Постройте график _усредненного_ по строкам MSE в зависимости от alpha. \n",
    "# Выведите выбранное alpha, а также пары \"признак-коэффициент\" для обученного вектора коэффициентов\n",
    "alphas = np.arange(1, 100, 1)\n",
    "lasso_cv_model = LassoCV(alphas=alphas, cv=3)\n",
    "lasso_cv_model.fit(X, y);"
   ]
  },
  {
   "cell_type": "code",
   "execution_count": 22,
   "metadata": {
    "colab": {
     "base_uri": "https://localhost:8080/"
    },
    "id": "NSGBajNesnxm",
    "outputId": "0247efef-74b1-42c0-b5b5-920524754321"
   },
   "outputs": [
    {
     "data": {
      "text/plain": [
       "5"
      ]
     },
     "execution_count": 22,
     "metadata": {},
     "output_type": "execute_result"
    }
   ],
   "source": [
    "lasso_cv_model.alpha_"
   ]
  },
  {
   "cell_type": "code",
   "execution_count": 23,
   "metadata": {
    "colab": {
     "base_uri": "https://localhost:8080/"
    },
    "id": "SG-cuahOqmS9",
    "outputId": "461b015d-0d74-41b9-9c8e-2e5507481079"
   },
   "outputs": [
    {
     "data": {
      "text/plain": [
       "('windspeed(mph)', 'weathersit', 'hum')"
      ]
     },
     "execution_count": 23,
     "metadata": {},
     "output_type": "execute_result"
    }
   ],
   "source": [
    "list(zip(feature_cols, lasso_cv_model.coef_))\n",
    "'windspeed(mph)', 'weathersit', 'hum'"
   ]
  },
  {
   "cell_type": "code",
   "execution_count": 24,
   "metadata": {
    "id": "sbB38sujpivD"
   },
   "outputs": [],
   "source": [
    "MSEs = lasso_cv_model.mse_path_.mean(axis=1)"
   ]
  },
  {
   "cell_type": "code",
   "execution_count": 25,
   "metadata": {
    "colab": {
     "base_uri": "https://localhost:8080/",
     "height": 295
    },
    "id": "_x4AKFFEqIsn",
    "outputId": "fe3e92f7-53a5-4868-aa95-9d96701778d2"
   },
   "outputs": [
    {
     "data": {
      "image/png": "[encoded data removed]",
      "text/plain": [
       "<Figure size 432x288 with 1 Axes>"
      ]
     },
     "metadata": {
      "needs_background": "light"
     },
     "output_type": "display_data"
    }
   ],
   "source": [
    "figure, axes = plt.subplots()\n",
    "plt.plot(lasso_cv_model.alphas_, MSEs);\n",
    "plt.title('Зависимость ошибки от коэффициента alpha');\n",
    "plt.ylabel('MSE');\n",
    "plt.xlabel('alpha');"
   ]
  },
  {
   "cell_type": "markdown",
   "metadata": {
    "id": "DY4geqrYJidI"
   },
   "source": [
    "Итак, мы выбрали некоторый параметр регуляризации. Давайте посмотрим, какие бы мы выбирали alpha, если бы делили выборку только один раз на обучающую и тестовую, то есть рассмотрим траектории MSE, соответствующие отдельным блокам выборки."
   ]
  },
  {
   "cell_type": "code",
   "execution_count": 31,
   "metadata": {
    "colab": {
     "base_uri": "https://localhost:8080/",
     "height": 622
    },
    "id": "N-qiWn2qJidI",
    "outputId": "11f01d72-a211-4629-bde3-556430557387"
   },
   "outputs": [
    {
     "data": {
      "image/png": "[encoded data removed]",
      "text/plain": [
       "<Figure size 1080x720 with 1 Axes>"
      ]
     },
     "metadata": {
      "needs_background": "light"
     },
     "output_type": "display_data"
    }
   ],
   "source": [
    "# Код 3.3 (1 балл)\n",
    "# Выведите значения alpha, соответствующие минимумам MSE на каждом разбиении (то есть по столбцам).\n",
    "# На трех отдельных графиках визуализируйте столбцы .mse_path_\n",
    "fig, axes = plt.subplots(figsize=(15, 10))\n",
    "for i, errors in enumerate(lasso_cv_model.mse_path_.T):\n",
    "    plt.plot(lasso_cv_model.alphas_, errors,)\n",
    "plt.title('Зависимость ошибки от коэффициента alpha при разных блоках выборки');\n",
    "plt.ylabel('MSE');\n",
    "plt.xlabel('alpha');"
   ]
  },
  {
   "cell_type": "markdown",
   "metadata": {
    "id": "90VmcS2IJidJ"
   },
   "source": [
    "На каждом разбиении оптимальное значение alpha свое, и ему соответствует большое MSE на других разбиениях. Получается, что мы настраиваемся на конкретные обучающие и контрольные выборки. При выборе alpha на кросс-валидации мы выбираем нечто \"среднее\", что будет давать приемлемое значение метрики на разных разбиениях выборки. "
   ]
  },
  {
   "cell_type": "markdown",
   "metadata": {
    "id": "rixtkPN3JidJ"
   },
   "source": [
    "Наконец, как принято в анализе данных, давайте проинтерпретируем результат."
   ]
  },
  {
   "cell_type": "markdown",
   "metadata": {
    "id": "6AVeDipkJidJ"
   },
   "source": [
    "__Блок 3. Ответьте на вопросы (каждый 0.5 балла):__\n",
    "1. В последней обученной модели выберите 4 признака с наибольшими (положительными) коэфициентами (и выпишите их), посмотрите на визуализации зависимостей cnt от этих признаков, которые мы рисовали в блоке \"Знакомство с данными\". Видна ли возрастающая линейная зависимость cnt от этих признаков по графикам? Логично ли утверждать (из здравого смысла), что чем больше значение этих признаков, тем больше людей захотят взять велосипеды? \n",
    "    * Ответ: возрастающая линейная зависимость видна только на графике с температурой. На графиках с сезонами и годами явно сказать нельзя. Можно логично утверждать, что чем больше температура, то тем больше людей захотят взять велосипеды. \n",
    "1. Выберите 3 признака с наибольшими по модулю отрицательными коэффициентами (и выпишите их), посмотрите на соответствующие визуализации. Видна ли убывающая линейная зависимость? Логично ли утверждать, что чем больше величина этих признаков, тем меньше людей захотят взять велосипеды?\n",
    "    * Ответ: убывающая линейная зависимость видна. Weathersit объясняет погоду, где 1 - хорошая погода, 4 - плохая. Чем больше значение этого признака, тем хуже погодные условия и тем меньше людей захотят взять велосипеды. То же самое можно сказать и про влажность (большая влажность косвенно свидетельствует о дожде), и про скорость ветра.\n",
    "1. Выпишите признаки с коэффициентами, близкими к нулю (< 1e-3). Как вы думаете, почему модель исключила их из модели (вновь посмотрите на графики)? Верно ли, что они никак не влияют на спрос на велосипеды?\n",
    "    * Ответ: таким признаком оказалась скорость ветра в другой единице измерения. Модель исключила этот признак из-за того, что он дублирует уже существующий и является неинформативным"
   ]
  },
  {
   "cell_type": "code",
   "execution_count": 32,
   "metadata": {
    "colab": {
     "base_uri": "https://localhost:8080/"
    },
    "id": "60sSqH-a06r5",
    "outputId": "d8f21193-cadd-43cc-ed23-5be60e6b08ff"
   },
   "outputs": [
    {
     "data": {
      "text/plain": [
       "season    0.406100\n",
       "yr        0.566710\n",
       "atemp     0.631066\n",
       "temp      0.627494\n",
       "dtype: float64"
      ]
     },
     "execution_count": 32,
     "metadata": {},
     "output_type": "execute_result"
    }
   ],
   "source": [
    "#1\n",
    "df[['season', 'yr', 'atemp', 'temp']].corrwith(df['cnt'])"
   ]
  },
  {
   "cell_type": "code",
   "execution_count": 33,
   "metadata": {
    "colab": {
     "base_uri": "https://localhost:8080/"
    },
    "id": "mqeb3ZnSdqqw",
    "outputId": "2b2254d7-35e0-48be-8f53-2e09ab4450a2"
   },
   "outputs": [
    {
     "data": {
      "text/plain": [
       "weathersit       -0.297391\n",
       "hum              -0.100659\n",
       "windspeed(mph)   -0.234545\n",
       "dtype: float64"
      ]
     },
     "execution_count": 33,
     "metadata": {},
     "output_type": "execute_result"
    }
   ],
   "source": [
    "#2\n",
    "df[['weathersit', 'hum', 'windspeed(mph)']].corrwith(df['cnt'])"
   ]
  },
  {
   "cell_type": "code",
   "execution_count": 34,
   "metadata": {
    "colab": {
     "base_uri": "https://localhost:8080/"
    },
    "id": "PocHpi-ZedvQ",
    "outputId": "f24fbfdf-adc3-45f0-baf1-dfd4d9102856"
   },
   "outputs": [
    {
     "data": {
      "text/plain": [
       "windspeed(mph)   -0.234545\n",
       "dtype: float64"
      ]
     },
     "execution_count": 34,
     "metadata": {},
     "output_type": "execute_result"
    }
   ],
   "source": [
    "#3\n",
    "df[['windspeed(mph)']].corrwith(df['cnt'])"
   ]
  },
  {
   "cell_type": "markdown",
   "metadata": {
    "id": "NrgVIx8uJidJ"
   },
   "source": [
    "### Заключение\n",
    "Итак, мы посмотрели, как можно следить за адекватностью линейной модели, как отбирать признаки и как грамотно, по возможности не настраиваясь на какую-то конкретную порцию данных, подбирать коэффициент регуляризации. \n",
    "\n",
    "Стоит отметить, что с помощью кросс-валидации удобно подбирать лишь небольшое число параметров (1, 2, максимум 3), потому что для каждой допустимой их комбинации нам приходится несколько раз обучать модель, а это времязатратный процесс, особенно если нужно обучаться на больших объемах данных."
   ]
  }
 ],
 "metadata": {
  "anaconda-cloud": {},
  "colab": {
   "name": "OverfittingTask.ipynb",
   "provenance": []
  },
  "kernelspec": {
   "display_name": "Python 3",
   "language": "python",
   "name": "python3"
  },
  "language_info": {
   "codemirror_mode": {
    "name": "ipython",
    "version": 3
   },
   "file_extension": ".py",
   "mimetype": "text/x-python",
   "name": "python",
   "nbconvert_exporter": "python",
   "pygments_lexer": "ipython3",
   "version": "3.8.8"
  }
 },
 "nbformat": 4,
 "nbformat_minor": 1
}
